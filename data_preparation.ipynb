{
 "cells": [
  {
   "cell_type": "code",
   "execution_count": null,
   "metadata": {},
   "outputs": [],
   "source": [
    "\"\"\"Не забудь про запуск jupyter через virtualenv\n",
    "https://anbasile.github.io/programming/2017/06/25/jupyter-venv/\"\"\"\n",
    "\n",
    "import pandas as pd\n",
    "import numpy as np\n",
    "import os\n",
    "\n",
    "ivan_df = pd.read_excel('C:/Users/1/Documents/subculture_res/groups_Ivan.xlsx')\n",
    "\n",
    "def get_path(path):\n",
    "    os.chdir(path)\n",
    "    d = '.'\n",
    "    dirs = [os.path.join(d, o) for o in os.listdir(d) \n",
    "                        if os.path.isdir(os.path.join(d,o))][2:6]\n",
    "\n",
    "\n",
    "    res = [os.path.join('C:/Users/1/Documents/subculture_res/', str(i)[2:]) for i in dirs]\n",
    "    return res\n",
    "\n",
    "folder = get_path('C:/Users/1/Documents/subculture_res')[3] #вот здесь бы с декораторами поиграться\n",
    "\n",
    "\n",
    "def data_prepare(folder):\n",
    "    names = sorted(os.listdir(folder))\n",
    "    test_df = pd.read_excel(folder+'/'+'{}'.format(names[0]))[['alcohol', 'bdate', 'city', 'country', 'followers_count', 'ids', 'life_main',\n",
    "                      'people_main', 'political', 'religion', 'sex', 'smoking', 'occupation']] \n",
    "\n",
    "    cat_col = ['alcohol', 'life_main', 'people_main', 'political', 'sex', 'smoking', 'occupation']\n",
    "    for col in cat_col:\n",
    "        test_df[col] = test_df[col].astype('category',copy=False)\n",
    "    test_df['group_id'] = str((reposters_names[0].split('.'))[0])\n",
    "    # задел на масштабирование, на случай если другой формат будет, например csv\n",
    "    test_df['group_id'] = test_df['group_id'].astype('int64',copy=False)\n",
    "    test_df = test_df.merge(ivan_df[['Сегмент', 'group_id']], on='group_id', how='left')\n",
    "    test_df['bdate'] = pd.to_datetime(test_df['bdate'], errors = 'coerce',\n",
    "                                        yearfirst = True)\n",
    "    test_df['bdate'] = test_df['bdate'].dt.year\n",
    "    test_df.describe(include=['category'])\n",
    "    return test_df\n",
    "    \n",
    "    \n",
    "\n",
    "data_prepare(folder)"
   ]
  }
 ],
 "metadata": {
  "kernelspec": {
   "display_name": "subcultures",
   "language": "python",
   "name": "subcultures"
  },
  "language_info": {
   "codemirror_mode": {
    "name": "ipython",
    "version": 3
   },
   "file_extension": ".py",
   "mimetype": "text/x-python",
   "name": "python",
   "nbconvert_exporter": "python",
   "pygments_lexer": "ipython3",
   "version": "3.6.4"
  }
 },
 "nbformat": 4,
 "nbformat_minor": 2
}
